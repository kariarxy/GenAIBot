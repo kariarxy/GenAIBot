{
  "nbformat": 4,
  "nbformat_minor": 0,
  "metadata": {
    "colab": {
      "provenance": [],
      "authorship_tag": "ABX9TyPtP+xR3kTKSdVqmEXWeodm",
      "include_colab_link": true
    },
    "kernelspec": {
      "name": "python3",
      "display_name": "Python 3"
    },
    "language_info": {
      "name": "python"
    }
  },
  "cells": [
    {
      "cell_type": "markdown",
      "metadata": {
        "id": "view-in-github",
        "colab_type": "text"
      },
      "source": [
        "<a href=\"https://colab.research.google.com/github/kariarxy/QueryBot/blob/main/ChatGPTAPI_no_credentials.ipynb\" target=\"_parent\"><img src=\"https://colab.research.google.com/assets/colab-badge.svg\" alt=\"Open In Colab\"/></a>"
      ]
    },
    {
      "cell_type": "code",
      "execution_count": null,
      "metadata": {
        "id": "PQVJY-w2tWnZ"
      },
      "outputs": [],
      "source": [
        "pip install openai==0.28"
      ]
    },
    {
      "cell_type": "code",
      "source": [
        "import openai\n",
        "import os\n",
        "import openai\n",
        "from flask import Flask, request, jsonify\n",
        "\n",
        "openai.api_key = \"your-api-key\"\n",
        "response = openai.ChatCompletion.create(\n",
        "    model=\"gpt-3.5-turbo\",\n",
        "    messages=[{\"role\": \"user\", \"content\": \"Hello, how are you?\"}]\n",
        ")\n",
        "\n",
        "print(response[\"choices\"][0][\"message\"][\"content\"])"
      ],
      "metadata": {
        "colab": {
          "base_uri": "https://localhost:8080/"
        },
        "id": "Bg65C5DLtqwE",
        "outputId": "25aec7f5-b1a5-435b-a260-d12c0c4fd2b8"
      },
      "execution_count": null,
      "outputs": [
        {
          "output_type": "stream",
          "name": "stdout",
          "text": [
            "Hello! I'm just a computer program, so I don't have feelings, but I'm here and ready to help you. How can I assist you today?\n"
          ]
        }
      ]
    },
    {
      "cell_type": "code",
      "source": [
        "# write a function to ask chatGPT question\n",
        "import openai\n",
        "def ask_chatgpt(prompt, model=\"gpt-3.5-turbo\"):\n",
        "    try:\n",
        "        response = openai.ChatCompletion.create(\n",
        "            model=model,\n",
        "            messages=[{\"role\": \"user\", \"content\": prompt}]\n",
        "        )\n",
        "        return response[\"choices\"][0][\"message\"][\"content\"]\n",
        "    except Exception as e:\n",
        "        print(f\"An error occurred: {e}\")\n",
        "        return None\n",
        "\n",
        "# Example usage\n",
        "if __name__ == \"__main__\":\n",
        "    user_prompt = input(\"Enter your question for ChatGPT: \")\n",
        "    chatgpt_reply = ask_chatgpt(user_prompt)\n",
        "\n",
        "    if chatgpt_reply:\n",
        "        print(\"ChatGPT's response:\\n\", chatgpt_reply)\n"
      ],
      "metadata": {
        "colab": {
          "base_uri": "https://localhost:8080/"
        },
        "id": "U38oQsIv5SBG",
        "outputId": "46ce41af-5524-462f-fc8a-360dafb707cd"
      },
      "execution_count": null,
      "outputs": [
        {
          "output_type": "stream",
          "name": "stdout",
          "text": [
            "Enter your question for ChatGPT: 1+1\n",
            "ChatGPT's response:\n",
            " = 2\n"
          ]
        }
      ]
    },
    {
      "cell_type": "code",
      "source": [
        "# build a chatbot to run query on a database in my Google drive called retail_data.csv\n",
        "\n",
        "import openai\n",
        "import os\n",
        "import pandas as pd\n",
        "from google.colab import drive\n",
        "\n",
        "# Mount Google Drive\n",
        "drive.mount('/content/drive')\n",
        "\n",
        "# Replace with your actual API key\n",
        "openai.api_key = \"your api key\"\n",
        "\n",
        "# Load the CSV file into a Pandas DataFrame\n",
        "data_path = '/content/drive/My Drive/retail_data.csv'  # Update with your file path\n",
        "try:\n",
        "    df = pd.read_csv(data_path)\n",
        "except FileNotFoundError:\n",
        "    print(f\"Error: File not found at {data_path}\")\n",
        "    exit()\n",
        "\n",
        "\n",
        "def query_database(query):\n",
        "    try:\n",
        "        # Execute the query using Pandas\n",
        "        result = df.query(query)\n",
        "        return result.to_string()\n",
        "    except Exception as e:\n",
        "        return f\"Error executing query: {e}\"\n",
        "\n",
        "def chatbot():\n",
        "    \"\"\"\n",
        "    Main chatbot function to interact with the user.\n",
        "    \"\"\"\n",
        "    while True:\n",
        "        user_input = input(\"Enter your query (or type 'exit' to quit): \")\n",
        "        if user_input.lower() == 'exit':\n",
        "            break\n",
        "\n",
        "        # Attempt to execute the query directly\n",
        "        query_result = query_database(user_input)\n",
        "        if \"Error\" not in query_result: #if no error print the result\n",
        "            print(query_result)\n",
        "            continue #ask again for another query\n",
        "\n",
        "        # If direct query fails, ask ChatGPT for assistance\n",
        "        prompt = f\"Convert this natural language query about retail data into a pandas query string: {user_input}\"\n",
        "        pandas_query = ask_chatgpt(prompt)\n",
        "\n",
        "        # Re-attempt the query using the pandas query generated by ChatGPT\n",
        "        if pandas_query:\n",
        "            query_result = query_database(pandas_query)\n",
        "            print(query_result)\n",
        "        else:\n",
        "            print(\"Could not generate a valid Pandas query.\")\n",
        "\n",
        "def ask_chatgpt(prompt, model=\"gpt-3.5-turbo\"):\n",
        "    \"\"\"Asks a question to ChatGPT and returns the response.\"\"\"\n",
        "    try:\n",
        "        response = openai.ChatCompletion.create(\n",
        "            model=model,\n",
        "            messages=[{\"role\": \"user\", \"content\": prompt}]\n",
        "        )\n",
        "        return response[\"choices\"][0][\"message\"][\"content\"]\n",
        "    except Exception as e:\n",
        "        print(f\"An error occurred: {e}\")\n",
        "        return None\n",
        "if __name__ == \"__main__\":\n",
        "    chatbot()\n"
      ],
      "metadata": {
        "colab": {
          "base_uri": "https://localhost:8080/"
        },
        "id": "lTswIZpc5ixd",
        "outputId": "42c12dda-cc4b-48d1-a04d-5dda04857f5f"
      },
      "execution_count": null,
      "outputs": [
        {
          "name": "stdout",
          "output_type": "stream",
          "text": [
            "Drive already mounted at /content/drive; to attempt to forcibly remount, call drive.mount(\"/content/drive\", force_remount=True).\n",
            "Enter your query (or type 'exit' to quit): exit\n"
          ]
        }
      ]
    },
    {
      "cell_type": "code",
      "source": [
        "%%capture\n",
        "!pip install -q langchain\n",
        "!pip install -q openai"
      ],
      "metadata": {
        "id": "QfiO0z4ntpnI"
      },
      "execution_count": null,
      "outputs": []
    },
    {
      "cell_type": "code",
      "source": [
        "import os\n",
        "os.environ['OPENAI_API_KEY'] = \"your api key\""
      ],
      "metadata": {
        "id": "dG8HC8Lfv67m"
      },
      "execution_count": null,
      "outputs": []
    },
    {
      "cell_type": "code",
      "source": [
        "import numpy as np\n",
        "import pandas as pd\n",
        "import sqlite3\n",
        "\n",
        "from google.colab import drive\n",
        "drive.mount('/content/drive')\n",
        "df=pd.read_csv('drive/My Drive/retail_data.csv')\n",
        "conn = sqlite3.connect('retail_db.sqlite')\n",
        "c = conn.cursor()\n",
        "\n",
        "c.execute('CREATE TABLE IF NOT EXISTS retail (CustomerID int, Country text, balance float, max_spent float, mean_spent float, min_spent float, n_orders int)')\n",
        "conn.commit()\n",
        "\n",
        "df.to_sql('retail', conn, if_exists='replace', index = False)\n",
        "\n",
        "c.execute('''\n",
        " SELECT Country FROM retail LIMIT 100\n",
        "           ''')\n",
        "\n",
        "for row in c.fetchall():\n",
        "       print (row)"
      ],
      "metadata": {
        "id": "8VaNzOCHwCVy"
      },
      "execution_count": null,
      "outputs": []
    },
    {
      "cell_type": "code",
      "source": [
        "def read_sql_query(sql, db):\n",
        "    conn = sqlite3.connect(db)\n",
        "    cur = conn.cursor()\n",
        "    cur.execute(sql)\n",
        "    rows = cur.fetchall()\n",
        "    for row in rows:\n",
        "        print(row)\n",
        "    conn.close()"
      ],
      "metadata": {
        "id": "A0l7CBQTw2nJ"
      },
      "execution_count": null,
      "outputs": []
    },
    {
      "cell_type": "code",
      "source": [
        "import sqlite3\n",
        "read_sql_query(' SELECT Country FROM retail LIMIT 100;',\n",
        "               \"retail_db.sqlite\")"
      ],
      "metadata": {
        "id": "iIb4oj9SzhPI"
      },
      "execution_count": null,
      "outputs": []
    },
    {
      "cell_type": "code",
      "source": [
        "!pip install langchain-community\n",
        "!pip install langchain-experimental"
      ],
      "metadata": {
        "id": "G5DD-Ni5z7iZ"
      },
      "execution_count": null,
      "outputs": []
    },
    {
      "cell_type": "code",
      "source": [
        "from langchain_experimental.sql import SQLDatabaseChain\n",
        "from langchain import OpenAI, SQLDatabase\n",
        "from langchain.llms import OpenAI\n",
        "\n",
        "input_db = SQLDatabase.from_uri('sqlite:///retail_db.sqlite')\n",
        "llm_1 = OpenAI(temperature=0.8)"
      ],
      "metadata": {
        "id": "v2F2BZdEzo02"
      },
      "execution_count": null,
      "outputs": []
    },
    {
      "cell_type": "code",
      "source": [
        "db_agent = SQLDatabaseChain(llm = llm_1,\n",
        "                            database = input_db,\n",
        "                            verbose=True)"
      ],
      "metadata": {
        "colab": {
          "base_uri": "https://localhost:8080/"
        },
        "id": "26J_BISl0tnR",
        "outputId": "a49489b9-20c1-4699-bfe2-d3b5a9a461a3"
      },
      "execution_count": null,
      "outputs": [
        {
          "output_type": "stream",
          "name": "stderr",
          "text": [
            "/usr/local/lib/python3.11/dist-packages/langchain_experimental/sql/base.py:77: UserWarning: Directly instantiating an SQLDatabaseChain with an llm is deprecated. Please instantiate with llm_chain argument or using the from_llm class method.\n",
            "  warnings.warn(\n"
          ]
        }
      ]
    },
    {
      "cell_type": "code",
      "source": [
        "db_agent.run(\"how many rows are there?\")"
      ],
      "metadata": {
        "colab": {
          "base_uri": "https://localhost:8080/",
          "height": 174
        },
        "id": "UpyYrIEH002b",
        "outputId": "f5046bd3-bc9d-48f0-90ca-a59d778c0c9d"
      },
      "execution_count": null,
      "outputs": [
        {
          "output_type": "stream",
          "name": "stdout",
          "text": [
            "\n",
            "\n",
            "\u001b[1m> Entering new SQLDatabaseChain chain...\u001b[0m\n",
            "how many rows are there?\n",
            "SQLQuery:\u001b[32;1m\u001b[1;3mSELECT COUNT(*) FROM retail\u001b[0m\n",
            "SQLResult: \u001b[33;1m\u001b[1;3m[(3254,)]\u001b[0m\n",
            "Answer:\u001b[32;1m\u001b[1;3m3254\u001b[0m\n",
            "\u001b[1m> Finished chain.\u001b[0m\n"
          ]
        },
        {
          "output_type": "execute_result",
          "data": {
            "text/plain": [
              "'3254'"
            ],
            "application/vnd.google.colaboratory.intrinsic+json": {
              "type": "string"
            }
          },
          "metadata": {},
          "execution_count": 128
        }
      ]
    },
    {
      "cell_type": "code",
      "source": [
        "db_agent.run(\"how many entries of Country are present?\")"
      ],
      "metadata": {
        "colab": {
          "base_uri": "https://localhost:8080/",
          "height": 174
        },
        "id": "zhnn1f7x08Xa",
        "outputId": "8bbf6b4b-3036-4069-9c01-1497d6fb3b2c"
      },
      "execution_count": null,
      "outputs": [
        {
          "output_type": "stream",
          "name": "stdout",
          "text": [
            "\n",
            "\n",
            "\u001b[1m> Entering new SQLDatabaseChain chain...\u001b[0m\n",
            "how many entries of Country are present?\n",
            "SQLQuery:\u001b[32;1m\u001b[1;3mSELECT COUNT(\"Country\") FROM retail\u001b[0m\n",
            "SQLResult: \u001b[33;1m\u001b[1;3m[(3254,)]\u001b[0m\n",
            "Answer:\u001b[32;1m\u001b[1;3m3254\u001b[0m\n",
            "\u001b[1m> Finished chain.\u001b[0m\n"
          ]
        },
        {
          "output_type": "execute_result",
          "data": {
            "text/plain": [
              "'3254'"
            ],
            "application/vnd.google.colaboratory.intrinsic+json": {
              "type": "string"
            }
          },
          "metadata": {},
          "execution_count": 129
        }
      ]
    },
    {
      "cell_type": "code",
      "source": [
        "db_agent.run(\"Which country has the highest balance?\")"
      ],
      "metadata": {
        "colab": {
          "base_uri": "https://localhost:8080/",
          "height": 174
        },
        "id": "qLPhUnjH1JT4",
        "outputId": "a7bd05b4-80f0-48f8-fa56-efb53f201056"
      },
      "execution_count": null,
      "outputs": [
        {
          "output_type": "stream",
          "name": "stdout",
          "text": [
            "\n",
            "\n",
            "\u001b[1m> Entering new SQLDatabaseChain chain...\u001b[0m\n",
            "Which country has the highest balance?\n",
            "SQLQuery:\u001b[32;1m\u001b[1;3mSELECT \"Country\", MAX(\"balance\") FROM retail\u001b[0m\n",
            "SQLResult: \u001b[33;1m\u001b[1;3m[('United Kingdom', 394689.18)]\u001b[0m\n",
            "Answer:\u001b[32;1m\u001b[1;3mUnited Kingdom\u001b[0m\n",
            "\u001b[1m> Finished chain.\u001b[0m\n"
          ]
        },
        {
          "output_type": "execute_result",
          "data": {
            "text/plain": [
              "'United Kingdom'"
            ],
            "application/vnd.google.colaboratory.intrinsic+json": {
              "type": "string"
            }
          },
          "metadata": {},
          "execution_count": 130
        }
      ]
    },
    {
      "cell_type": "code",
      "source": [
        "db_agent.run(\"What is the total of max spent by customers?\")"
      ],
      "metadata": {
        "colab": {
          "base_uri": "https://localhost:8080/",
          "height": 174
        },
        "id": "3rSqzTKH1RQm",
        "outputId": "4bcfbbad-d14c-4691-d429-66c67e5efece"
      },
      "execution_count": null,
      "outputs": [
        {
          "output_type": "stream",
          "name": "stdout",
          "text": [
            "\n",
            "\n",
            "\u001b[1m> Entering new SQLDatabaseChain chain...\u001b[0m\n",
            "What is the total of max spent by customers?\n",
            "SQLQuery:\u001b[32;1m\u001b[1;3mSELECT SUM(max_spent) AS \"Total Max Spent\" FROM retail\u001b[0m\n",
            "SQLResult: \u001b[33;1m\u001b[1;3m[(4038644.940000006,)]\u001b[0m\n",
            "Answer:\u001b[32;1m\u001b[1;3m4038644.940000006\u001b[0m\n",
            "\u001b[1m> Finished chain.\u001b[0m\n"
          ]
        },
        {
          "output_type": "execute_result",
          "data": {
            "text/plain": [
              "'4038644.940000006'"
            ],
            "application/vnd.google.colaboratory.intrinsic+json": {
              "type": "string"
            }
          },
          "metadata": {},
          "execution_count": 49
        }
      ]
    },
    {
      "cell_type": "code",
      "source": [
        "db_agent.run(\"What is the amount of refund to customers?\")"
      ],
      "metadata": {
        "colab": {
          "base_uri": "https://localhost:8080/",
          "height": 174
        },
        "id": "-GV07v0G0NaZ",
        "outputId": "e6e2fea3-afa2-4a50-8716-d975b1c5b0f5"
      },
      "execution_count": null,
      "outputs": [
        {
          "output_type": "stream",
          "name": "stdout",
          "text": [
            "\n",
            "\n",
            "\u001b[1m> Entering new SQLDatabaseChain chain...\u001b[0m\n",
            "What is the amount of refund to customers?\n",
            "SQLQuery:\u001b[32;1m\u001b[1;3mSELECT SUM(total_refunded) FROM retail\u001b[0m\n",
            "SQLResult: \u001b[33;1m\u001b[1;3m[(-193678.79999999987,)]\u001b[0m\n",
            "Answer:\u001b[32;1m\u001b[1;3mThe amount of refund to customers is $193,678.80.\u001b[0m\n",
            "\u001b[1m> Finished chain.\u001b[0m\n"
          ]
        },
        {
          "output_type": "execute_result",
          "data": {
            "text/plain": [
              "'The amount of refund to customers is $193,678.80.'"
            ],
            "application/vnd.google.colaboratory.intrinsic+json": {
              "type": "string"
            }
          },
          "metadata": {},
          "execution_count": 152
        }
      ]
    },
    {
      "cell_type": "code",
      "source": [
        "# generate these queries using a chatbot in an user interface?\n",
        "\n",
        "import openai\n",
        "import os\n",
        "from flask import Flask, request, jsonify\n",
        "import pandas as pd\n",
        "from google.colab import drive\n",
        "import numpy as np\n",
        "import sqlite3\n",
        "from langchain_experimental.sql import SQLDatabaseChain\n",
        "from langchain import OpenAI, SQLDatabase\n",
        "\n",
        "# ... (rest of your imports and setup code)\n",
        "\n",
        "def chatbot_ui():\n",
        "    \"\"\"\n",
        "    Provides a simple text-based UI for interacting with the chatbot.\n",
        "    \"\"\"\n",
        "    print(\"Welcome to the Retail Data Chatbot!\")\n",
        "    while True:\n",
        "        user_input = input(\"Enter your query (or type 'exit' to quit): \")\n",
        "        if user_input.lower() == 'exit':\n",
        "            break\n",
        "\n",
        "        # Attempt to execute the query directly using Pandas\n",
        "        try:\n",
        "            query_result = query_database(user_input)  # Assuming query_database function is defined\n",
        "            if \"Error\" not in query_result:  # if no error print the result\n",
        "                print(query_result)\n",
        "                continue  # ask again for another query\n",
        "        except Exception as e:\n",
        "            print(f\"An error occurred during Pandas query: {e}\")\n",
        "\n",
        "\n",
        "        # If direct Pandas query fails, try the SQL database agent\n",
        "        try:\n",
        "            print(\"Attempting SQL query...\")  # Indicate SQL query attempt\n",
        "            query_result = db_agent.run(user_input)\n",
        "            print(query_result)\n",
        "            continue\n",
        "\n",
        "        except Exception as e:\n",
        "            print(f\"An error occurred during SQL query: {e}\")\n",
        "\n",
        "        # If both pandas and SQL fail, fallback to ChatGPT\n",
        "        print(\"Falling back to ChatGPT for query conversion...\")\n",
        "        prompt = f\"Convert this natural language query about retail data into a SQL query string: {user_input}\"\n",
        "        sql_query = ask_chatgpt(prompt)\n",
        "\n",
        "        if sql_query:\n",
        "            try:\n",
        "                print(\"Executing SQL query generated by ChatGPT...\")\n",
        "                read_sql_query(sql_query, \"retail_db.sqlite\")\n",
        "            except Exception as e:\n",
        "                print(f\"Error executing ChatGPT-generated SQL query: {e}\")\n",
        "        else:\n",
        "            print(\"Could not generate a valid SQL query.\")\n",
        "\n",
        "if __name__ == \"__main__\":\n",
        "    chatbot_ui()\n"
      ],
      "metadata": {
        "colab": {
          "base_uri": "https://localhost:8080/"
        },
        "id": "rW2eHQnT1gjc",
        "outputId": "56f60292-5aa9-4391-d931-b18c58e9b27c"
      },
      "execution_count": null,
      "outputs": [
        {
          "output_type": "stream",
          "name": "stdout",
          "text": [
            "Welcome to the Retail Data Chatbot!\n",
            "Enter your query (or type 'exit' to quit): what are the number of countries in the table?\n",
            "Attempting SQL query...\n",
            "\n",
            "\n",
            "\u001b[1m> Entering new SQLDatabaseChain chain...\u001b[0m\n",
            "what are the number of countries in the table?\n",
            "SQLQuery:\u001b[32;1m\u001b[1;3mSELECT COUNT(DISTINCT \"Country\") FROM retail\u001b[0m\n",
            "SQLResult: \u001b[33;1m\u001b[1;3m[(11,)]\u001b[0m\n",
            "Answer:\u001b[32;1m\u001b[1;3mThere are 11 countries in the table.\u001b[0m\n",
            "\u001b[1m> Finished chain.\u001b[0m\n",
            "There are 11 countries in the table.\n",
            "Enter your query (or type 'exit' to quit): which country has the largest number of late delivery?\n",
            "Attempting SQL query...\n",
            "\n",
            "\n",
            "\u001b[1m> Entering new SQLDatabaseChain chain...\u001b[0m\n",
            "which country has the largest number of late delivery?\n",
            "SQLQuery:\u001b[32;1m\u001b[1;3mSELECT \"Country\", COUNT(*) AS \"Late_Delivery_Count\" FROM retail WHERE \"late_delivery\"=1 GROUP BY \"Country\" ORDER BY \"Late_Delivery_Count\" DESC LIMIT 1\u001b[0m\n",
            "SQLResult: \u001b[33;1m\u001b[1;3m[('United Kingdom', 1424)]\u001b[0m\n",
            "Answer:\u001b[32;1m\u001b[1;3mUnited Kingdom\u001b[0m\n",
            "\u001b[1m> Finished chain.\u001b[0m\n",
            "United Kingdom\n",
            "Enter your query (or type 'exit' to quit): which country has the highest sum of refund?\n",
            "Attempting SQL query...\n",
            "\n",
            "\n",
            "\u001b[1m> Entering new SQLDatabaseChain chain...\u001b[0m\n",
            "which country has the highest sum of refund?\n",
            "SQLQuery:\u001b[32;1m\u001b[1;3mSELECT \"Country\", SUM(total_refunded) as \"Sum of Refund\" FROM retail GROUP BY \"Country\" ORDER BY \"Sum of Refund\" DESC LIMIT 1;\u001b[0m\n",
            "SQLResult: \u001b[33;1m\u001b[1;3m[('Finland', -39.26)]\u001b[0m\n",
            "Answer:\u001b[32;1m\u001b[1;3mFinland\u001b[0m\n",
            "\u001b[1m> Finished chain.\u001b[0m\n",
            "Finland\n"
          ]
        }
      ]
    }
  ]
}